{
 "cells": [
  {
   "cell_type": "code",
   "execution_count": 1,
   "metadata": {},
   "outputs": [
    {
     "name": "stdout",
     "output_type": "stream",
     "text": [
      "/home/marcos/Proyectos/Python/KPMG/NERTest\n"
     ]
    }
   ],
   "source": [
    "cd .."
   ]
  },
  {
   "cell_type": "code",
   "execution_count": 2,
   "metadata": {},
   "outputs": [
    {
     "name": "stderr",
     "output_type": "stream",
     "text": [
      "I1017 17:34:16.555156 140299843835712 file_utils.py:39] PyTorch version 1.6.0 available.\n",
      "/home/marcos/miniconda3/lib/python3.7/site-packages/tensorflow/python/framework/dtypes.py:526: FutureWarning: Passing (type, 1) or '1type' as a synonym of type is deprecated; in a future version of numpy, it will be understood as (type, (1,)) / '(1,)type'.\n",
      "  _np_qint8 = np.dtype([(\"qint8\", np.int8, 1)])\n",
      "/home/marcos/miniconda3/lib/python3.7/site-packages/tensorflow/python/framework/dtypes.py:527: FutureWarning: Passing (type, 1) or '1type' as a synonym of type is deprecated; in a future version of numpy, it will be understood as (type, (1,)) / '(1,)type'.\n",
      "  _np_quint8 = np.dtype([(\"quint8\", np.uint8, 1)])\n",
      "/home/marcos/miniconda3/lib/python3.7/site-packages/tensorflow/python/framework/dtypes.py:528: FutureWarning: Passing (type, 1) or '1type' as a synonym of type is deprecated; in a future version of numpy, it will be understood as (type, (1,)) / '(1,)type'.\n",
      "  _np_qint16 = np.dtype([(\"qint16\", np.int16, 1)])\n",
      "/home/marcos/miniconda3/lib/python3.7/site-packages/tensorflow/python/framework/dtypes.py:529: FutureWarning: Passing (type, 1) or '1type' as a synonym of type is deprecated; in a future version of numpy, it will be understood as (type, (1,)) / '(1,)type'.\n",
      "  _np_quint16 = np.dtype([(\"quint16\", np.uint16, 1)])\n",
      "/home/marcos/miniconda3/lib/python3.7/site-packages/tensorflow/python/framework/dtypes.py:530: FutureWarning: Passing (type, 1) or '1type' as a synonym of type is deprecated; in a future version of numpy, it will be understood as (type, (1,)) / '(1,)type'.\n",
      "  _np_qint32 = np.dtype([(\"qint32\", np.int32, 1)])\n",
      "/home/marcos/miniconda3/lib/python3.7/site-packages/tensorflow/python/framework/dtypes.py:535: FutureWarning: Passing (type, 1) or '1type' as a synonym of type is deprecated; in a future version of numpy, it will be understood as (type, (1,)) / '(1,)type'.\n",
      "  np_resource = np.dtype([(\"resource\", np.ubyte, 1)])\n",
      "[nltk_data] Downloading package punkt to /home/marcos/nltk_data...\n",
      "[nltk_data]   Package punkt is already up-to-date!\n"
     ]
    },
    {
     "name": "stdout",
     "output_type": "stream",
     "text": [
      "--- Model Albert for NER ---\n",
      "--- Albert for QA ---\n"
     ]
    },
    {
     "name": "stderr",
     "output_type": "stream",
     "text": [
      "/home/marcos/miniconda3/lib/python3.7/site-packages/IPython/core/interactiveshell.py:3249: DtypeWarning: Columns (3) have mixed types. Specify dtype option on import or set low_memory=False.\n",
      "  if (await self.run_code(code, result,  async_=asy)):\n"
     ]
    }
   ],
   "source": [
    "import os\n",
    "\n",
    "import pandas as pd\n",
    "from sklearn.metrics import accuracy_score, recall_score, f1_score, precision_score, classification_report, confusion_matrix\n",
    "import matplotlib.pyplot as plt\n",
    "import seaborn as sns\n",
    "\n",
    "from src.detector import extract"
   ]
  },
  {
   "cell_type": "code",
   "execution_count": 3,
   "metadata": {
    "scrolled": true
   },
   "outputs": [
    {
     "name": "stderr",
     "output_type": "stream",
     "text": [
      "Evaluating: 100%|██████████| 1/1 [00:02<00:00,  2.89s/it]\n"
     ]
    },
    {
     "data": {
      "text/plain": [
       "([('BSO', 'B-SONG'),\n",
       "  ('by', 'I-SONG'),\n",
       "  ('Hans', 'I-SONG'),\n",
       "  ('Zimmer', 'I-SONG'),\n",
       "  ('is', 'O'),\n",
       "  ('awesome', 'O'),\n",
       "  ('I', 'O'),\n",
       "  ('give', 'O'),\n",
       "  ('this', 'O'),\n",
       "  ('movie', 'O'),\n",
       "  ('five', 'B-RATINGS_AVERAGE'),\n",
       "  ('stars', 'O'),\n",
       "  ('just', 'O'),\n",
       "  ('because', 'O'),\n",
       "  ('of', 'O'),\n",
       "  ('the', 'O'),\n",
       "  ('music', 'O')],\n",
       " None)"
      ]
     },
     "execution_count": 3,
     "metadata": {},
     "output_type": "execute_result"
    }
   ],
   "source": [
    "text = \"BSO by Hans Zimmer is awesome. I give this movie five stars just because of the music.\"\n",
    "extract(text)"
   ]
  },
  {
   "cell_type": "code",
   "execution_count": 4,
   "metadata": {},
   "outputs": [
    {
     "name": "stderr",
     "output_type": "stream",
     "text": [
      "Evaluating: 100%|██████████| 1/1 [00:02<00:00,  2.87s/it]\n"
     ]
    },
    {
     "data": {
      "text/plain": [
       "([('Leonard', 'B-SONG'),\n",
       "  ('Cohen', 'I-SONG'),\n",
       "  ('songs', 'I-SONG'),\n",
       "  ('in', 'O'),\n",
       "  ('this', 'O'),\n",
       "  ('movie', 'O'),\n",
       "  ('are', 'O'),\n",
       "  ('awesome', 'O')],\n",
       " None)"
      ]
     },
     "execution_count": 4,
     "metadata": {},
     "output_type": "execute_result"
    }
   ],
   "source": [
    "text = \"Leonard Cohen songs in this movie are awesome\"\n",
    "extract(text)"
   ]
  },
  {
   "cell_type": "code",
   "execution_count": null,
   "metadata": {},
   "outputs": [],
   "source": []
  },
  {
   "cell_type": "code",
   "execution_count": 3,
   "metadata": {},
   "outputs": [],
   "source": [
    "with open(\"data/engtest.txt\", \"r\") as f:\n",
    "    engtest = f.read()"
   ]
  },
  {
   "cell_type": "code",
   "execution_count": 4,
   "metadata": {},
   "outputs": [],
   "source": [
    "docs = engtest.split(\"\\n\\n\")"
   ]
  },
  {
   "cell_type": "markdown",
   "metadata": {},
   "source": [
    "##### To save\n",
    "- 2 -> Names lowcase \n",
    "- 4 -> Character or Title\n",
    "- 20 -> the 2000's\n",
    "- 23 -> Erros/Outliers"
   ]
  },
  {
   "cell_type": "markdown",
   "metadata": {},
   "source": [
    "##### To do\n",
    "- since in dates"
   ]
  },
  {
   "cell_type": "code",
   "execution_count": 5,
   "metadata": {},
   "outputs": [
    {
     "name": "stdout",
     "output_type": "stream",
     "text": [
      "who\tO\n",
      "directed\tB-DIRECTOR\n",
      "the\tO\n",
      "film\tO\n",
      "pulp\tB-TITLE\n",
      "fiction\tI-TITLE\n",
      "that\tO\n",
      "starred\tO\n",
      "john\tB-ACTOR\n",
      "travolta\tI-ACTOR\n"
     ]
    }
   ],
   "source": [
    "i = 23\n",
    "print(docs[i])"
   ]
  },
  {
   "cell_type": "code",
   "execution_count": 6,
   "metadata": {},
   "outputs": [
    {
     "name": "stdout",
     "output_type": "stream",
     "text": [
      "['who', 'directed', 'the', 'film', 'pulp', 'fiction', 'that', 'starred', 'john', 'travolta']\n"
     ]
    }
   ],
   "source": [
    "words_doc = [line.split(\"\\t\")[0] for line in docs[i].split(\"\\n\")]\n",
    "print(words_doc)"
   ]
  },
  {
   "cell_type": "code",
   "execution_count": 7,
   "metadata": {},
   "outputs": [
    {
     "name": "stderr",
     "output_type": "stream",
     "text": [
      "Evaluating: 100%|██████████| 1/1 [00:03<00:00,  3.31s/it]\n"
     ]
    },
    {
     "data": {
      "text/plain": [
       "([('who', 'O'),\n",
       "  ('directed', 'O'),\n",
       "  ('the', 'O'),\n",
       "  ('film', 'O'),\n",
       "  ('pulp', 'B-TITLE'),\n",
       "  ('fiction', 'I-TITLE'),\n",
       "  ('that', 'O'),\n",
       "  ('starred', 'O'),\n",
       "  ('john', 'I-ACTOR'),\n",
       "  ('travolta', 'I-ACTOR')],\n",
       "       original_title  year         genre           director  \\\n",
       " 28381   Pulp Fiction  1994  Crime, Drama  Quentin Tarantino   \n",
       " \n",
       "                                                   actors  \\\n",
       " 28381  Tim Roth, Amanda Plummer, Laura Lovelace, John...   \n",
       " \n",
       "                                              description  \n",
       " 28381  The lives of two mob hitmen, a boxer, a gangst...  )"
      ]
     },
     "execution_count": 7,
     "metadata": {},
     "output_type": "execute_result"
    }
   ],
   "source": [
    "extract(\" \".join(words_doc))"
   ]
  },
  {
   "cell_type": "markdown",
   "metadata": {},
   "source": [
    "##### Metrics"
   ]
  },
  {
   "cell_type": "code",
   "execution_count": 8,
   "metadata": {},
   "outputs": [],
   "source": [
    "with open(\"data/labels.txt\", \"r\") as f:\n",
    "    labels = f.read().split()\n",
    "label_map = {i: label for i, label in enumerate(labels)}\n",
    "reversed_label_map = {label: i for i, label in enumerate(labels)}"
   ]
  },
  {
   "cell_type": "code",
   "execution_count": 19,
   "metadata": {},
   "outputs": [
    {
     "data": {
      "text/plain": [
       "{0: 'B-REVIEW',\n",
       " 1: 'B-AWARD',\n",
       " 2: 'B-DIRECTOR',\n",
       " 3: 'B-RATING',\n",
       " 4: 'B-RATINGS_AVERAGE',\n",
       " 5: 'B-GENRE',\n",
       " 6: 'B-CHARACTER',\n",
       " 7: 'B-QUOTE',\n",
       " 8: 'B-ORIGIN',\n",
       " 9: 'B-SONG',\n",
       " 10: 'B-ACTOR',\n",
       " 11: 'B-TITLE',\n",
       " 12: 'B-PLOT',\n",
       " 13: 'B-RELATIONSHIP',\n",
       " 14: 'B-YEAR',\n",
       " 15: 'B-TRAILER',\n",
       " 16: 'I-REVIEW',\n",
       " 17: 'I-AWARD',\n",
       " 18: 'I-DIRECTOR',\n",
       " 19: 'I-RATING',\n",
       " 20: 'I-RATINGS_AVERAGE',\n",
       " 21: 'I-GENRE',\n",
       " 22: 'I-CHARACTER',\n",
       " 23: 'I-QUOTE',\n",
       " 24: 'I-ORIGIN',\n",
       " 25: 'I-SONG',\n",
       " 26: 'I-ACTOR',\n",
       " 27: 'I-TITLE',\n",
       " 28: 'I-PLOT',\n",
       " 29: 'I-RELATIONSHIP',\n",
       " 30: 'I-YEAR',\n",
       " 31: 'I-TRAILER',\n",
       " 32: 'O'}"
      ]
     },
     "execution_count": 19,
     "metadata": {},
     "output_type": "execute_result"
    }
   ],
   "source": [
    "label_map"
   ]
  },
  {
   "cell_type": "code",
   "execution_count": 9,
   "metadata": {},
   "outputs": [],
   "source": [
    "doc = docs[0]\n",
    "words_doc = [line.split(\"\\t\")[0] for line in doc.split(\"\\n\")]\n",
    "real_ents = [line.split(\"\\t\")[1] for line in doc.split(\"\\n\")]\n",
    "real_idxs = [reversed_label_map[real_ent] for real_ent in real_ents]"
   ]
  },
  {
   "cell_type": "code",
   "execution_count": 18,
   "metadata": {},
   "outputs": [
    {
     "data": {
      "text/plain": [
       "(['O', 'O', 'O', 'O', 'B-GENRE', 'I-GENRE', 'O', 'B-YEAR', 'I-YEAR'],\n",
       " [32, 32, 32, 32, 5, 21, 32, 14, 30])"
      ]
     },
     "execution_count": 18,
     "metadata": {},
     "output_type": "execute_result"
    }
   ],
   "source": [
    "real_ents, real_idxs"
   ]
  },
  {
   "cell_type": "code",
   "execution_count": 17,
   "metadata": {},
   "outputs": [
    {
     "data": {
      "text/plain": [
       "(['O', 'O', 'O', 'O', 'B-GENRE', 'I-GENRE', 'O', 'O', 'O'],\n",
       " [32, 32, 32, 32, 5, 21, 32, 32, 32])"
      ]
     },
     "execution_count": 17,
     "metadata": {},
     "output_type": "execute_result"
    }
   ],
   "source": [
    "pred_ents, pred_idxs"
   ]
  },
  {
   "cell_type": "code",
   "execution_count": 10,
   "metadata": {},
   "outputs": [
    {
     "name": "stderr",
     "output_type": "stream",
     "text": [
      "Evaluating: 100%|██████████| 1/1 [00:03<00:00,  3.19s/it]\n"
     ]
    }
   ],
   "source": [
    "result, _ = extract(\" \".join(words_doc))\n",
    "\n",
    "pred_ents = [ent[1] for ent in result]\n",
    "pred_idxs = [reversed_label_map[ent] for ent in pred_ents]"
   ]
  },
  {
   "cell_type": "code",
   "execution_count": 11,
   "metadata": {},
   "outputs": [
    {
     "name": "stdout",
     "output_type": "stream",
     "text": [
      "Precission: 0.7777777777777778\n",
      "Accuracy: 0.7777777777777778\n",
      "Recall: 0.7777777777777778\n",
      "f1-score: 0.7777777777777778\n",
      "              precision    recall  f1-score   support\n",
      "\n",
      "           5       1.00      1.00      1.00         1\n",
      "          14       0.00      0.00      0.00         1\n",
      "          21       1.00      1.00      1.00         1\n",
      "          30       0.00      0.00      0.00         1\n",
      "          32       0.71      1.00      0.83         5\n",
      "\n",
      "    accuracy                           0.78         9\n",
      "   macro avg       0.54      0.60      0.57         9\n",
      "weighted avg       0.62      0.78      0.69         9\n",
      "\n"
     ]
    },
    {
     "name": "stderr",
     "output_type": "stream",
     "text": [
      "/home/marcos/miniconda3/lib/python3.7/site-packages/sklearn/metrics/_classification.py:1272: UndefinedMetricWarning: Precision and F-score are ill-defined and being set to 0.0 in labels with no predicted samples. Use `zero_division` parameter to control this behavior.\n",
      "  _warn_prf(average, modifier, msg_start, len(result))\n"
     ]
    }
   ],
   "source": [
    "print(f\"Precission: {precision_score(real_idxs, pred_idxs, average='micro')}\")\n",
    "print(f\"Accuracy: {accuracy_score(real_idxs, pred_idxs)}\")\n",
    "print(f\"Recall: {recall_score(real_idxs, pred_idxs, average='micro')}\")\n",
    "print(f\"f1-score: {f1_score(real_idxs, pred_idxs, average='micro')}\")\n",
    "      \n",
    "print(classification_report(real_idxs, pred_idxs))"
   ]
  },
  {
   "cell_type": "code",
   "execution_count": 20,
   "metadata": {},
   "outputs": [
    {
     "data": {
      "text/plain": [
       "[32, 5, 14, 21, 30]"
      ]
     },
     "execution_count": 20,
     "metadata": {},
     "output_type": "execute_result"
    }
   ],
   "source": [
    "list(set(real_idxs + pred_idxs))"
   ]
  },
  {
   "cell_type": "code",
   "execution_count": 21,
   "metadata": {},
   "outputs": [],
   "source": [
    "columns = [labels[i] for i in list(set(real_idxs + pred_idxs))]\n",
    "columns.sort()"
   ]
  },
  {
   "cell_type": "code",
   "execution_count": 22,
   "metadata": {},
   "outputs": [
    {
     "data": {
      "text/plain": [
       "<matplotlib.axes._subplots.AxesSubplot at 0x7f6df1aac2e8>"
      ]
     },
     "execution_count": 22,
     "metadata": {},
     "output_type": "execute_result"
    },
    {
     "data": {
      "image/png": "[encoded data removed]",
      "text/plain": [
       "<Figure size 720x504 with 2 Axes>"
      ]
     },
     "metadata": {
      "needs_background": "light"
     },
     "output_type": "display_data"
    }
   ],
   "source": [
    "df_cm = pd.DataFrame(confusion_matrix(real_idxs, pred_idxs), index=columns,\n",
    "                  columns=columns)\n",
    "plt.figure(figsize = (10,7))\n",
    "sns.heatmap(df_cm, annot=True)"
   ]
  },
  {
   "cell_type": "code",
   "execution_count": null,
   "metadata": {},
   "outputs": [],
   "source": []
  }
 ],
 "metadata": {
  "kernelspec": {
   "display_name": "Python 3",
   "language": "python",
   "name": "python3"
  },
  "language_info": {
   "codemirror_mode": {
    "name": "ipython",
    "version": 3
   },
   "file_extension": ".py",
   "mimetype": "text/x-python",
   "name": "python",
   "nbconvert_exporter": "python",
   "pygments_lexer": "ipython3",
   "version": "3.7.3"
  }
 },
 "nbformat": 4,
 "nbformat_minor": 2
}
