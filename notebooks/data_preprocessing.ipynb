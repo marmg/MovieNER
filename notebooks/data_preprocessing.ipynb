{
 "cells": [
  {
   "cell_type": "code",
   "execution_count": 1,
   "metadata": {},
   "outputs": [],
   "source": [
    "import os"
   ]
  },
  {
   "cell_type": "code",
   "execution_count": 2,
   "metadata": {},
   "outputs": [],
   "source": [
    "with open(\"../data/trivia10k13train.bio\", \"r\") as f:\n",
    "    text_trivia = f.read()\n",
    "    \n",
    "with open(\"../data/engtrain.bio\", \"r\") as f:\n",
    "    text_eng = f.read()\n",
    "    \n",
    "with open(\"../data/trivia10k13test.bio\", \"r\") as f:\n",
    "    text_trivia = f.read()\n",
    "    \n",
    "with open(\"../data/engtest.bio\", \"r\") as f:\n",
    "    text_eng = f.read()"
   ]
  },
  {
   "cell_type": "code",
   "execution_count": 4,
   "metadata": {},
   "outputs": [],
   "source": [
    "def parse_text(text):\n",
    "    lines = text.split(\"\\n\")\n",
    "    new_lines = []\n",
    "    ents = []\n",
    "    for line in lines:\n",
    "        if line:\n",
    "            e, t = line.split(\"\\t\")\n",
    "            ents.append(e)\n",
    "            new_lines.append(\"\\t\".join([t, e]))\n",
    "        else:\n",
    "            new_lines.append(\"\")\n",
    "    \n",
    "    text = \"\\n\".join(new_lines)\n",
    "    \n",
    "    return text, list(set(ents))"
   ]
  },
  {
   "cell_type": "code",
   "execution_count": 5,
   "metadata": {},
   "outputs": [],
   "source": [
    "new_eng, labels_e = parse_text(text_eng)\n",
    "new_trivia, labels_t = parse_text(text_trivia)\n",
    "\n",
    "labels_e.sort()\n",
    "labels_t.sort()\n",
    "labels = list(set(labels_e+labels_t))"
   ]
  },
  {
   "cell_type": "code",
   "execution_count": 6,
   "metadata": {},
   "outputs": [
    {
     "name": "stdout",
     "output_type": "stream",
     "text": [
      "Trivia: ['B-Actor', 'B-Award', 'B-Character_Name', 'B-Director', 'B-Genre', 'B-Opinion', 'B-Origin', 'B-Plot', 'B-Quote', 'B-Relationship', 'B-Soundtrack', 'B-Year'] \n",
      " Eng: ['B-ACTOR', 'B-CHARACTER', 'B-DIRECTOR', 'B-GENRE', 'B-PLOT', 'B-RATING', 'B-RATINGS_AVERAGE', 'B-REVIEW', 'B-SONG', 'B-TITLE', 'B-TRAILER']\n"
     ]
    }
   ],
   "source": [
    "print(\"Trivia:\", labels_t[:12], \"\\n\", \"Eng:\", labels_e[:11])"
   ]
  },
  {
   "cell_type": "code",
   "execution_count": 12,
   "metadata": {},
   "outputs": [],
   "source": [
    "# Replace similar labels\n",
    "replace_dict = {\n",
    "    'Actor': \"ACTOR\",\n",
    "    'Character_Name': \"CHARACTER\",\n",
    "    'Director': \"DIRECTOR\",\n",
    "    'Genre': \"GENRE\",\n",
    "    'Plot': \"PLOT\",\n",
    "    'Opinion': \"REVIEW\",\n",
    "    'Soundtrack': \"SONG\",\n",
    "    'Year': \"YEAR\",\n",
    "    'Award': \"AWARD\",\n",
    "    'Relationship': \"RELATIONSHIP\",\n",
    "    'Origin': \"ORIGIN\",\n",
    "    'Quote': \"QUOTE\"\n",
    "}\n",
    "\n",
    "new_labels_t = []\n",
    "for label in labels_t:\n",
    "    label_ = label.split(\"-\")\n",
    "    new_label = \"\"\n",
    "    if len(label_) > 1:\n",
    "        if label_[1] in replace_dict:\n",
    "            new_label = f\"{label_[0]}-{replace_dict[label_[1]]}\"\n",
    "        else:\n",
    "            new_label = label\n",
    "    else:\n",
    "        new_label = label\n",
    "    \n",
    "    new_labels_t.append(new_label)"
   ]
  },
  {
   "cell_type": "code",
   "execution_count": 13,
   "metadata": {},
   "outputs": [
    {
     "name": "stdout",
     "output_type": "stream",
     "text": [
      "Found 16 labels\n",
      "Example labels: ['B-DIRECTOR', 'B-YEAR', 'I-RATING', 'I-RATINGS_AVERAGE', 'B-RATING']\n"
     ]
    }
   ],
   "source": [
    "labels = list(set(labels_e+new_labels_t))\n",
    "print(f\"Found {int((len(labels)-1)/2)} labels\")\n",
    "print(f\"Example labels: {labels[:5]}\")"
   ]
  },
  {
   "cell_type": "code",
   "execution_count": 14,
   "metadata": {},
   "outputs": [],
   "source": [
    "def replace_text(text):\n",
    "    lines = text.split(\"\\n\")\n",
    "    new_lines = []\n",
    "    for line in lines:\n",
    "        if line:\n",
    "            t, label = line.split(\"\\t\")\n",
    "            label_ = label.split(\"-\")\n",
    "            e = \"\"\n",
    "            if len(label_) > 1:\n",
    "                if label_[1] in replace_dict:\n",
    "                    e = f\"{label_[0]}-{replace_dict[label_[1]]}\"\n",
    "                else:\n",
    "                    e = label\n",
    "            else:\n",
    "                e = label\n",
    "\n",
    "            new_lines.append(\"\\t\".join([t, e]))\n",
    "        else:\n",
    "            new_lines.append(\"\")\n",
    "    \n",
    "    text = \"\\n\".join(new_lines)\n",
    "    \n",
    "    return text"
   ]
  },
  {
   "cell_type": "code",
   "execution_count": 15,
   "metadata": {},
   "outputs": [],
   "source": [
    "new_trivia = replace_text(new_trivia)"
   ]
  },
  {
   "cell_type": "code",
   "execution_count": 16,
   "metadata": {},
   "outputs": [],
   "source": [
    "with open(\"../data/engtest.txt\", \"w\")as f:\n",
    "    f.write(new_eng)\n",
    "    \n",
    "with open(\"../data/trivia10k13test.txt\", \"w\")as f:\n",
    "    f.write(new_trivia)"
   ]
  },
  {
   "cell_type": "code",
   "execution_count": 22,
   "metadata": {},
   "outputs": [],
   "source": [
    "def merge(text1, text2):\n",
    "    text = \"-DOCSTART-\\tO\\n\"\n",
    "    text += text1\n",
    "    text += text2\n",
    "    \n",
    "    return text"
   ]
  },
  {
   "cell_type": "code",
   "execution_count": 23,
   "metadata": {},
   "outputs": [],
   "source": [
    "# text = \"-DOCSTART-\\tO\\n\\n\" + new_eng\n",
    "\n",
    "# with open(\"../data/train.txt\", \"w\") as f:\n",
    "#     f.write(text)"
   ]
  },
  {
   "cell_type": "code",
   "execution_count": 13,
   "metadata": {},
   "outputs": [],
   "source": [
    "# text = merge(new_eng, new_trivia)\n",
    "\n",
    "# with open(\"../data/train.txt\", \"w\") as f:\n",
    "#     f.write(text)\n",
    "    \n",
    "# with open(\"../data/labels.txt\", \"w\") as f:\n",
    "#     for label in labels:\n",
    "#         f.write(label+\"\\n\")"
   ]
  },
  {
   "cell_type": "code",
   "execution_count": null,
   "metadata": {},
   "outputs": [],
   "source": []
  }
 ],
 "metadata": {
  "kernelspec": {
   "display_name": "Python 3",
   "language": "python",
   "name": "python3"
  },
  "language_info": {
   "codemirror_mode": {
    "name": "ipython",
    "version": 3
   },
   "file_extension": ".py",
   "mimetype": "text/x-python",
   "name": "python",
   "nbconvert_exporter": "python",
   "pygments_lexer": "ipython3",
   "version": "3.7.6"
  }
 },
 "nbformat": 4,
 "nbformat_minor": 4
}
