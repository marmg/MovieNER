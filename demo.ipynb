{
 "cells": [
  {
   "cell_type": "code",
   "execution_count": 1,
   "metadata": {},
   "outputs": [
    {
     "name": "stderr",
     "output_type": "stream",
     "text": [
      "/opt/miniconda3/envs/kpmgtest/lib/python3.8/site-packages/IPython/core/interactiveshell.py:3337: DtypeWarning: Columns (3) have mixed types.Specify dtype option on import or set low_memory=False.\n",
      "  if (await self.run_code(code, result,  async_=asy)):\n"
     ]
    }
   ],
   "source": [
    "from src.detector import extract"
   ]
  },
  {
   "cell_type": "code",
   "execution_count": 2,
   "metadata": {},
   "outputs": [],
   "source": [
    "text = \"Morgan Freeman and Gene Hackman acted great in this movie directed by Clint Eastwood, Unforgiven, a western R-rated movie. I give this movie an 8/10 for acting and how they told the story of William Munny. If you see the trailer you will want to watch it just because of the music by Lennie Niehaus\"\n",
    "text = \"The Godfather is a 1972 American crime film directed by Francis Ford Coppola. The film stars Marlon Brando, Al Pacino, James Caan, Richard S. Castellano, Robert Duvall, Sterling Hayden, John Marley, Richard Conte, and Diane Keaton. The story, spanning from 1945 to 1955, chronicles the Corleone family under patriarch Vito Corleone (Marlon Brando), focusing on the transformation of his youngest son, Michael Corleone (Al Pacino), from reluctant family outsider to ruthless mafia boss. The musical score was composed principally by Nino Rota and is (imho) one of the best soundtracks ever.\"\n",
    "# text = \"Casablanca is a 1942 American romantic drama film directed by Michael Curtiz, and starring Humphrey Bogart, Ingrid Bergman, and Paul Henreid. Filmed and set during World War II, it focuses on an American expatriate (Bogart) who must choose between his love for a woman (Bergman) and helping her and her husband (Henreid), a Czech resistance leader, escape from the Vichy-controlled city of Casablanca to continue his fight against the Germans. The screenplay is based on Everybody Comes to Rick's, an unproduced stage play by Murray Burnett and Joan Alison. The supporting cast features Claude Rains, Conrad Veidt, Sydney Greenstreet, Peter Lorre, and Dooley Wilson. \""
   ]
  },
  {
   "cell_type": "code",
   "execution_count": 3,
   "metadata": {},
   "outputs": [
    {
     "name": "stdout",
     "output_type": "stream",
     "text": [
      "[('The', 'B-TITLE'), ('Godfather', 'I-TITLE'), ('is', 'O'), ('a', 'O'), ('1972', 'B-YEAR'), ('American', 'O'), ('crime', 'B-GENRE'), ('film', 'O'), ('directed', 'O'), ('by', 'O'), ('Francis', 'B-DIRECTOR'), ('Ford', 'I-DIRECTOR'), ('Coppola', 'I-DIRECTOR'), ('The', 'B-TITLE'), ('film', 'O'), ('stars', 'O'), ('Marlon', 'B-ACTOR'), ('Brando', 'I-ACTOR'), ('Al', 'B-ACTOR'), ('Pacino', 'I-ACTOR'), ('James', 'B-ACTOR'), ('Caan', 'I-ACTOR'), ('Richard', 'B-ACTOR'), ('S.', 'I-ACTOR'), ('Castellano', 'I-ACTOR'), ('Robert', 'B-ACTOR'), ('Duvall', 'I-ACTOR'), ('Sterling', 'B-ACTOR'), ('Hayden', 'I-ACTOR'), ('John', 'B-ACTOR'), ('Marley', 'I-ACTOR'), ('Richard', 'B-ACTOR'), ('Conte', 'I-ACTOR'), ('and', 'O'), ('Diane', 'B-ACTOR'), ('Keaton', 'I-ACTOR'), ('The', 'B-TITLE'), ('story', 'O'), ('spanning', 'O'), ('from', 'O'), ('1945', 'B-YEAR'), ('to', 'O'), ('1955', 'B-YEAR'), ('chronicles', 'O'), ('the', 'O'), ('Corleone', 'B-CHARACTER'), ('family', 'O'), ('under', 'O'), ('patriarch', 'O'), ('Vito', 'B-CHARACTER'), ('Corleone', 'B-CHARACTER'), ('Marlon', 'B-ACTOR'), ('Brando', 'I-ACTOR'), ('focusing', 'O'), ('on', 'O'), ('the', 'O'), ('transformation', 'O'), ('of', 'O'), ('his', 'O'), ('youngest', 'O'), ('son', 'O'), ('Michael', 'B-CHARACTER'), ('Corleone', 'I-CHARACTER'), ('Al', 'B-ACTOR'), ('Pacino', 'I-ACTOR'), ('from', 'O'), ('reluctant', 'O'), ('family', 'O'), ('outsider', 'O'), ('to', 'O'), ('ruthless', 'O'), ('mafia', 'O'), ('boss', 'O'), ('The', 'B-TITLE'), ('musical', 'B-SONG'), ('score', 'I-SONG'), ('was', 'O'), ('composed', 'O'), ('principally', 'O'), ('by', 'O'), ('Nino', 'B-SONG'), ('Rota', 'I-SONG'), ('and', 'O'), ('is', 'O'), ('imho', 'O'), ('one', 'O'), ('of', 'O'), ('the', 'O'), ('best', 'O'), ('soundtracks', 'B-SONG'), ('ever', 'O')]\n"
     ]
    },
    {
     "data": {
      "text/html": [
       "<div>\n",
       "<style scoped>\n",
       "    .dataframe tbody tr th:only-of-type {\n",
       "        vertical-align: middle;\n",
       "    }\n",
       "\n",
       "    .dataframe tbody tr th {\n",
       "        vertical-align: top;\n",
       "    }\n",
       "\n",
       "    .dataframe thead th {\n",
       "        text-align: right;\n",
       "    }\n",
       "</style>\n",
       "<table border=\"1\" class=\"dataframe\">\n",
       "  <thead>\n",
       "    <tr style=\"text-align: right;\">\n",
       "      <th></th>\n",
       "      <th>original_title</th>\n",
       "      <th>year</th>\n",
       "      <th>genre</th>\n",
       "      <th>director</th>\n",
       "      <th>actors</th>\n",
       "      <th>description</th>\n",
       "    </tr>\n",
       "  </thead>\n",
       "  <tbody>\n",
       "    <tr>\n",
       "      <th>0</th>\n",
       "      <td>The Godfather</td>\n",
       "      <td>1972</td>\n",
       "      <td>Crime, Drama</td>\n",
       "      <td>Francis Ford Coppola</td>\n",
       "      <td>Marlon Brando, Al Pacino, James Caan, Richard ...</td>\n",
       "      <td>The aging patriarch of an organized crime dyna...</td>\n",
       "    </tr>\n",
       "  </tbody>\n",
       "</table>\n",
       "</div>"
      ],
      "text/plain": [
       "  original_title  year         genre              director  \\\n",
       "0  The Godfather  1972  Crime, Drama  Francis Ford Coppola   \n",
       "\n",
       "                                              actors  \\\n",
       "0  Marlon Brando, Al Pacino, James Caan, Richard ...   \n",
       "\n",
       "                                         description  \n",
       "0  The aging patriarch of an organized crime dyna...  "
      ]
     },
     "metadata": {},
     "output_type": "display_data"
    }
   ],
   "source": [
    "result, movie = extract(text)\n",
    "print(result)\n",
    "if movie is not None:\n",
    "    display(movie)"
   ]
  },
  {
   "cell_type": "code",
   "execution_count": null,
   "metadata": {},
   "outputs": [],
   "source": []
  }
 ],
 "metadata": {
  "kernelspec": {
   "display_name": "Python [conda env:kpmgtest]",
   "language": "python",
   "name": "conda-env-kpmgtest-py"
  },
  "language_info": {
   "codemirror_mode": {
    "name": "ipython",
    "version": 3
   },
   "file_extension": ".py",
   "mimetype": "text/x-python",
   "name": "python",
   "nbconvert_exporter": "python",
   "pygments_lexer": "ipython3",
   "version": "3.8.6"
  }
 },
 "nbformat": 4,
 "nbformat_minor": 2
}
