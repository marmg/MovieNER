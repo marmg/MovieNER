{
 "cells": [
  {
   "cell_type": "code",
   "execution_count": 1,
   "metadata": {},
   "outputs": [
    {
     "name": "stderr",
     "output_type": "stream",
     "text": [
      "I0116 13:39:23.817719 140236973123392 file_utils.py:39] PyTorch version 1.6.0 available.\n",
      "/home/marcos/miniconda3/lib/python3.7/site-packages/IPython/core/interactiveshell.py:3249: DtypeWarning: Columns (3) have mixed types. Specify dtype option on import or set low_memory=False.\n",
      "  if (await self.run_code(code, result,  async_=asy)):\n"
     ]
    }
   ],
   "source": [
    "from src.detector import extract"
   ]
  },
  {
   "cell_type": "code",
   "execution_count": 2,
   "metadata": {},
   "outputs": [],
   "source": [
    "text = \"Morgan Freeman and Gene Hackman acted great in this movie directed by Clint Eastwood, Unforgiven, a western R-rated movie. I give this movie an 8/10 for acting and how they told the story of William Munny. If you see the trailer you will want to watch it just because of the music by Lennie Niehaus\""
   ]
  },
  {
   "cell_type": "code",
   "execution_count": 3,
   "metadata": {},
   "outputs": [
    {
     "name": "stdout",
     "output_type": "stream",
     "text": [
      "[('Morgan', 'B-ACTOR'), ('Freeman', 'I-ACTOR'), ('and', 'O'), ('Gene', 'B-ACTOR'), ('Hackman', 'I-ACTOR'), ('acted', 'O'), ('great', 'O'), ('in', 'O'), ('this', 'O'), ('movie', 'O'), ('directed', 'O'), ('by', 'O'), ('Clint', 'B-DIRECTOR'), ('Eastwood', 'I-DIRECTOR'), ('Unforgiven', 'B-TITLE'), ('a', 'O'), ('western', 'B-GENRE'), ('R-rated', 'B-RATING'), ('movie', 'O'), ('I', 'O'), ('give', 'O'), ('this', 'O'), ('movie', 'O'), ('an', 'O'), ('8/10', 'B-RATINGS_AVERAGE'), ('for', 'O'), ('acting', 'O'), ('and', 'O'), ('how', 'O'), ('they', 'O'), ('told', 'O'), ('the', 'O'), ('story', 'O'), ('of', 'O'), ('William', 'B-CHARACTER'), ('Munny', 'I-CHARACTER'), ('If', 'O'), ('you', 'O'), ('see', 'O'), ('the', 'O'), ('trailer', 'B-TRAILER'), ('you', 'O'), ('will', 'O'), ('want', 'O'), ('to', 'O'), ('watch', 'O'), ('it', 'O'), ('just', 'O'), ('because', 'O'), ('of', 'O'), ('the', 'O'), ('music', 'B-SONG'), ('by', 'I-SONG'), ('Lennie', 'I-SONG'), ('Niehaus', 'I-SONG')]\n"
     ]
    },
    {
     "data": {
      "text/html": [
       "<div>\n",
       "<style scoped>\n",
       "    .dataframe tbody tr th:only-of-type {\n",
       "        vertical-align: middle;\n",
       "    }\n",
       "\n",
       "    .dataframe tbody tr th {\n",
       "        vertical-align: top;\n",
       "    }\n",
       "\n",
       "    .dataframe thead th {\n",
       "        text-align: right;\n",
       "    }\n",
       "</style>\n",
       "<table border=\"1\" class=\"dataframe\">\n",
       "  <thead>\n",
       "    <tr style=\"text-align: right;\">\n",
       "      <th></th>\n",
       "      <th>original_title</th>\n",
       "      <th>year</th>\n",
       "      <th>genre</th>\n",
       "      <th>director</th>\n",
       "      <th>actors</th>\n",
       "      <th>description</th>\n",
       "    </tr>\n",
       "  </thead>\n",
       "  <tbody>\n",
       "    <tr>\n",
       "      <td>0</td>\n",
       "      <td>Unforgiven</td>\n",
       "      <td>1992</td>\n",
       "      <td>Drama, Western</td>\n",
       "      <td>Clint Eastwood</td>\n",
       "      <td>Clint Eastwood, Gene Hackman, Morgan Freeman, ...</td>\n",
       "      <td>Retired Old West gunslinger William Munny relu...</td>\n",
       "    </tr>\n",
       "  </tbody>\n",
       "</table>\n",
       "</div>"
      ],
      "text/plain": [
       "  original_title  year           genre        director  \\\n",
       "0     Unforgiven  1992  Drama, Western  Clint Eastwood   \n",
       "\n",
       "                                              actors  \\\n",
       "0  Clint Eastwood, Gene Hackman, Morgan Freeman, ...   \n",
       "\n",
       "                                         description  \n",
       "0  Retired Old West gunslinger William Munny relu...  "
      ]
     },
     "metadata": {},
     "output_type": "display_data"
    }
   ],
   "source": [
    "result, movie = extract(text)\n",
    "print(result)\n",
    "if movie is not None:\n",
    "    display(movie)"
   ]
  }
 ],
 "metadata": {
  "kernelspec": {
   "display_name": "Python 3",
   "language": "python",
   "name": "python3"
  },
  "language_info": {
   "codemirror_mode": {
    "name": "ipython",
    "version": 3
   },
   "file_extension": ".py",
   "mimetype": "text/x-python",
   "name": "python",
   "nbconvert_exporter": "python",
   "pygments_lexer": "ipython3",
   "version": "3.7.3"
  }
 },
 "nbformat": 4,
 "nbformat_minor": 2
}
